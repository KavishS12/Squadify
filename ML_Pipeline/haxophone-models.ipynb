{
 "cells": [
  {
   "cell_type": "code",
   "execution_count": 1,
   "id": "9bc26007",
   "metadata": {
    "execution": {
     "iopub.execute_input": "2025-02-17T12:53:57.314888Z",
     "iopub.status.busy": "2025-02-17T12:53:57.314573Z",
     "iopub.status.idle": "2025-02-17T12:53:59.989086Z",
     "shell.execute_reply": "2025-02-17T12:53:59.988156Z"
    },
    "papermill": {
     "duration": 2.680501,
     "end_time": "2025-02-17T12:53:59.990747",
     "exception": false,
     "start_time": "2025-02-17T12:53:57.310246",
     "status": "completed"
    },
    "tags": []
   },
   "outputs": [],
   "source": [
    "# Import necessary libraries\n",
    "import pandas as pd\n",
    "from sklearn.model_selection import train_test_split\n",
    "from sklearn.ensemble import RandomForestRegressor\n",
    "from sklearn.linear_model import LinearRegression\n",
    "from sklearn.svm import SVR\n",
    "from sklearn.preprocessing import StandardScaler\n",
    "from sklearn.metrics import mean_squared_error"
   ]
  },
  {
   "cell_type": "code",
   "execution_count": 2,
   "id": "a9592cec",
   "metadata": {
    "execution": {
     "iopub.execute_input": "2025-02-17T12:53:59.998340Z",
     "iopub.status.busy": "2025-02-17T12:53:59.997825Z",
     "iopub.status.idle": "2025-02-17T12:54:00.062046Z",
     "shell.execute_reply": "2025-02-17T12:54:00.060951Z"
    },
    "papermill": {
     "duration": 0.069683,
     "end_time": "2025-02-17T12:54:00.063757",
     "exception": false,
     "start_time": "2025-02-17T12:53:59.994074",
     "status": "completed"
    },
    "tags": []
   },
   "outputs": [],
   "source": [
    "df = pd.read_csv('/kaggle/input/pp-haxophone/ratings_features.csv')\n",
    "# df=df[1000:]\n",
    "df['age'] = (2025 - df['born']).clip(lower=17, upper=45)\n",
    "df = df.dropna()\n",
    "\n",
    "def get_features_for_rating(rating_type):\n",
    "    features = ['Playing Time_stats', 'Expected_stats', 'Progression_stats', 'Per 90 Minutes_stats']\n",
    "    \n",
    "    if rating_type == 'passing':\n",
    "        features += ['Total_passing', 'Short_passing', 'Medium_passing', 'Long_passing', 'Expected_passing']\n",
    "    elif rating_type == 'shooting':\n",
    "        features += ['Standard_shooting', 'Expected_shooting']\n",
    "    elif rating_type == 'defense':\n",
    "        features += ['Tackles_defense', 'Challenges_defense', 'Blocks_defense']\n",
    "    elif rating_type == 'keeping_skills':\n",
    "        features += ['Performance_stats']  # Assuming relevant data for keeping skills\n",
    "    elif rating_type == 'overall_rating':\n",
    "        features += ['age', 'pos', 'potential_rating']  # Assuming 'potential_rating' in the dataset\n",
    "    return features\n"
   ]
  },
  {
   "cell_type": "code",
   "execution_count": 3,
   "id": "ed4e187c",
   "metadata": {
    "execution": {
     "iopub.execute_input": "2025-02-17T12:54:00.070809Z",
     "iopub.status.busy": "2025-02-17T12:54:00.070481Z",
     "iopub.status.idle": "2025-02-17T12:54:01.779729Z",
     "shell.execute_reply": "2025-02-17T12:54:01.778576Z"
    },
    "papermill": {
     "duration": 1.714667,
     "end_time": "2025-02-17T12:54:01.781459",
     "exception": false,
     "start_time": "2025-02-17T12:54:00.066792",
     "status": "completed"
    },
    "tags": []
   },
   "outputs": [
    {
     "name": "stdout",
     "output_type": "stream",
     "text": [
      "passing Model RMSE: 7.371529935726901\n",
      "shooting Model RMSE: 8.565462676251105\n",
      "defense Model RMSE: 9.953111194582306\n",
      "keeping_skills Model RMSE: 15.518528002736412\n"
     ]
    }
   ],
   "source": [
    "import pandas as pd\n",
    "from sklearn.model_selection import train_test_split\n",
    "from sklearn.linear_model import LinearRegression\n",
    "from sklearn.ensemble import RandomForestRegressor\n",
    "from sklearn.svm import SVR\n",
    "from xgboost import XGBRegressor\n",
    "from sklearn.metrics import mean_squared_error\n",
    "from sklearn.preprocessing import StandardScaler\n",
    "import joblib  # for saving models and scalers\n",
    "\n",
    "def train_model_for_rating(rating_type, model_type):\n",
    "    features = get_features_for_rating(rating_type)\n",
    "    X = df[features]  \n",
    "    y = df[rating_type]  \n",
    "    \n",
    "    X_train, X_test, y_train, y_test = train_test_split(X, y, test_size=0.2, random_state=42)\n",
    "    \n",
    "    scaler = StandardScaler()\n",
    "    X_train_scaled = scaler.fit_transform(X_train)\n",
    "    X_test_scaled = scaler.transform(X_test)\n",
    "    \n",
    "    if model_type == 'linear':\n",
    "        model = LinearRegression()\n",
    "    elif model_type == 'random_forest':\n",
    "        model = RandomForestRegressor(n_estimators=100, random_state=42)\n",
    "    elif model_type == 'svr':\n",
    "        model = SVR()\n",
    "    elif model_type == 'xgboost':\n",
    "        model = XGBRegressor(n_estimators=100, random_state=42)\n",
    "    \n",
    "    model.fit(X_train_scaled, y_train)\n",
    "    \n",
    "    y_pred = model.predict(X_test_scaled)\n",
    "    \n",
    "    mse = mean_squared_error(y_test, y_pred)\n",
    "    rmse = mse**0.5\n",
    "    print(f'{rating_type} Model RMSE: {rmse}')\n",
    "    \n",
    "    # Save the model and scaler\n",
    "    joblib.dump(model, f'{rating_type}_{model_type}_model.pkl')\n",
    "    joblib.dump(scaler, f'{rating_type}_scaler.pkl')\n",
    "    \n",
    "    return model, scaler\n",
    "\n",
    "passing_model, passing_scaler = train_model_for_rating('passing', model_type='xgboost')\n",
    "shooting_model, shooting_scaler = train_model_for_rating('shooting', model_type='linear')\n",
    "defense_model, defense_scaler = train_model_for_rating('defense', model_type='random_forest')\n",
    "keeping_model, keeping_scaler = train_model_for_rating('keeping_skills', model_type='svr')\n"
   ]
  },
  {
   "cell_type": "code",
   "execution_count": 4,
   "id": "14c6fce2",
   "metadata": {
    "execution": {
     "iopub.execute_input": "2025-02-17T12:54:01.789181Z",
     "iopub.status.busy": "2025-02-17T12:54:01.788826Z",
     "iopub.status.idle": "2025-02-17T12:54:02.571106Z",
     "shell.execute_reply": "2025-02-17T12:54:02.569982Z"
    },
    "papermill": {
     "duration": 0.78796,
     "end_time": "2025-02-17T12:54:02.572658",
     "exception": false,
     "start_time": "2025-02-17T12:54:01.784698",
     "status": "completed"
    },
    "tags": []
   },
   "outputs": [
    {
     "name": "stdout",
     "output_type": "stream",
     "text": [
      "Potential Model RMSE: 3.981986800909586\n"
     ]
    }
   ],
   "source": [
    "from sklearn.preprocessing import StandardScaler, LabelEncoder\n",
    "from sklearn.compose import ColumnTransformer\n",
    "from sklearn.model_selection import train_test_split\n",
    "from sklearn.ensemble import RandomForestRegressor\n",
    "from sklearn.metrics import mean_squared_error\n",
    "import pandas as pd\n",
    "\n",
    "# Function to train a model for predicting potential\n",
    "def train_potential_model():\n",
    "    features = ['Playing Time_stats', 'Expected_stats', 'Progression_stats', 'Per 90 Minutes_stats', 'age', 'pos']\n",
    "    X = df[features]\n",
    "    y = df['potential']\n",
    "    \n",
    "    # Split the dataset\n",
    "    X_train, X_test, y_train, y_test = train_test_split(X, y, test_size=0.2, random_state=42)\n",
    "    \n",
    "    # Preprocessing: Standardize numeric features and label encode 'pos'\n",
    "    label_encoder = LabelEncoder()\n",
    "    X_train['pos'] = label_encoder.fit_transform(X_train['pos'])\n",
    "    X_test['pos'] = label_encoder.transform(X_test['pos'])\n",
    "    \n",
    "    # Standardize numeric features\n",
    "    scaler = StandardScaler()\n",
    "    X_train[['Playing Time_stats', 'Expected_stats', 'Progression_stats', 'Per 90 Minutes_stats', 'age']] = scaler.fit_transform(X_train[['Playing Time_stats', 'Expected_stats', 'Progression_stats', 'Per 90 Minutes_stats', 'age']])\n",
    "    X_test[['Playing Time_stats', 'Expected_stats', 'Progression_stats', 'Per 90 Minutes_stats', 'age']] = scaler.transform(X_test[['Playing Time_stats', 'Expected_stats', 'Progression_stats', 'Per 90 Minutes_stats', 'age']])\n",
    "\n",
    "    # Train a model (Random Forest)\n",
    "    model = RandomForestRegressor(n_estimators=100, random_state=42)\n",
    "    model.fit(X_train, y_train)\n",
    "    \n",
    "    # Predict on test set\n",
    "    y_pred = model.predict(X_test)\n",
    "    \n",
    "    # Evaluate performance\n",
    "    mse = mean_squared_error(y_test, y_pred)\n",
    "    rmse = mse**0.5\n",
    "    print(f'Potential Model RMSE: {rmse}')\n",
    "    joblib.dump(model, f'potential_model.pkl')\n",
    "    joblib.dump(scaler, f'potential_num_scaler.pkl')\n",
    "    joblib.dump(label_encoder, f'potential_str_scaler.pkl')\n",
    "\n",
    "    return model, label_encoder, scaler  # Return model, label encoder, and scaler for later use\n",
    "\n",
    "# Train the potential model\n",
    "potential_model, p_label_encoder, p_scaler = train_potential_model()\n"
   ]
  },
  {
   "cell_type": "code",
   "execution_count": 5,
   "id": "afb1bf07",
   "metadata": {
    "execution": {
     "iopub.execute_input": "2025-02-17T12:54:02.579868Z",
     "iopub.status.busy": "2025-02-17T12:54:02.579545Z",
     "iopub.status.idle": "2025-02-17T12:54:02.585310Z",
     "shell.execute_reply": "2025-02-17T12:54:02.584323Z"
    },
    "papermill": {
     "duration": 0.011028,
     "end_time": "2025-02-17T12:54:02.586817",
     "exception": false,
     "start_time": "2025-02-17T12:54:02.575789",
     "status": "completed"
    },
    "tags": []
   },
   "outputs": [],
   "source": [
    "from sklearn.preprocessing import StandardScaler, LabelEncoder\n",
    "import pandas as pd\n",
    "\n",
    "def get_potential_predictions(df, potential_model, p_scaler):\n",
    "    numerical_features = ['Playing Time_stats', 'Expected_stats', 'Progression_stats', 'Per 90 Minutes_stats', 'age']\n",
    "    numerical_data = df[numerical_features]\n",
    "    numerical_data_transformed = p_scaler.transform(numerical_data)\n",
    "    \n",
    "    # Fit the label encoder on 'pos' and transform it\n",
    "    label_encoder = LabelEncoder()\n",
    "    label_encoder.fit(df['pos'])  # Fit on the column\n",
    "    categorical_data_transformed = label_encoder.transform(df['pos'])  # Transform it into encoded values\n",
    "    categorical_data_transformed = categorical_data_transformed.reshape(-1, 1)  # Reshape for concatenation\n",
    "    \n",
    "    # Combine numerical and categorical data\n",
    "    combined_features = pd.concat([pd.DataFrame(numerical_data_transformed), pd.DataFrame(categorical_data_transformed)], axis=1)\n",
    "\n",
    "    # Make predictions using the potential model\n",
    "    potential_preds = potential_model.predict(combined_features)\n",
    "    \n",
    "    return potential_preds\n"
   ]
  },
  {
   "cell_type": "code",
   "execution_count": 6,
   "id": "b5b4e516",
   "metadata": {
    "execution": {
     "iopub.execute_input": "2025-02-17T12:54:02.594009Z",
     "iopub.status.busy": "2025-02-17T12:54:02.593672Z",
     "iopub.status.idle": "2025-02-17T12:54:03.657198Z",
     "shell.execute_reply": "2025-02-17T12:54:03.656053Z"
    },
    "papermill": {
     "duration": 1.068843,
     "end_time": "2025-02-17T12:54:03.658838",
     "exception": false,
     "start_time": "2025-02-17T12:54:02.589995",
     "status": "completed"
    },
    "tags": []
   },
   "outputs": [
    {
     "name": "stderr",
     "output_type": "stream",
     "text": [
      "/usr/local/lib/python3.10/dist-packages/sklearn/base.py:439: UserWarning: X does not have valid feature names, but RandomForestRegressor was fitted with feature names\n",
      "  warnings.warn(\n"
     ]
    },
    {
     "name": "stdout",
     "output_type": "stream",
     "text": [
      "Meta Classifier RMSE: 3.9361022478427357\n"
     ]
    }
   ],
   "source": [
    "from sklearn.preprocessing import LabelEncoder\n",
    "import pandas as pd\n",
    "from sklearn.model_selection import train_test_split\n",
    "from sklearn.ensemble import RandomForestRegressor\n",
    "from sklearn.metrics import mean_squared_error\n",
    "\n",
    "# Function to generate features for the meta-classifier\n",
    "def get_meta_features_with_potential(df):\n",
    "    passing_preds = passing_model.predict(passing_scaler.transform(df[get_features_for_rating('passing')]))\n",
    "    shooting_preds = shooting_model.predict(shooting_scaler.transform(df[get_features_for_rating('shooting')]))\n",
    "    defense_preds = defense_model.predict(defense_scaler.transform(df[get_features_for_rating('defense')]))\n",
    "    keeping_preds = keeping_model.predict(keeping_scaler.transform(df[get_features_for_rating('keeping_skills')]))\n",
    "    \n",
    "    potential_preds = get_potential_predictions(df, potential_model, p_scaler)\n",
    "\n",
    "    meta_df = pd.DataFrame({\n",
    "        'passing': passing_preds,\n",
    "        'shooting': shooting_preds,\n",
    "        'defense': defense_preds,\n",
    "        'keeping_skills': keeping_preds,\n",
    "        'potential': potential_preds,\n",
    "        'age': df['age']\n",
    "    })\n",
    "\n",
    "    df['pos_encoded'] = p_label_encoder.transform(df['pos']) \n",
    "    pos_encoded_df = df[['pos_encoded']] \n",
    "    return pd.concat([meta_df, pos_encoded_df], axis=1)\n",
    "\n",
    "\n",
    "X_meta = get_meta_features_with_potential(df)\n",
    "y_meta = df['overallrating']\n",
    "\n",
    "# Split dataset\n",
    "X_train_meta, X_test_meta, y_train_meta, y_test_meta = train_test_split(X_meta, y_meta, test_size=0.2, random_state=42)\n",
    "\n",
    "meta_classifier = RandomForestRegressor(n_estimators=100, random_state=42)\n",
    "meta_classifier.fit(X_train_meta, y_train_meta)\n",
    "\n",
    "joblib.dump(meta_classifier, f'meta_model.pkl')\n",
    "\n",
    "meta_preds = meta_classifier.predict(X_test_meta)\n",
    "meta_mse = mean_squared_error(y_test_meta, meta_preds)\n",
    "meta_rmse = meta_mse**0.5\n",
    "print(f'Meta Classifier RMSE: {meta_rmse}')\n"
   ]
  },
  {
   "cell_type": "code",
   "execution_count": 7,
   "id": "76fd3947",
   "metadata": {
    "execution": {
     "iopub.execute_input": "2025-02-17T12:54:03.666606Z",
     "iopub.status.busy": "2025-02-17T12:54:03.666290Z",
     "iopub.status.idle": "2025-02-17T12:54:05.240061Z",
     "shell.execute_reply": "2025-02-17T12:54:05.239006Z"
    },
    "papermill": {
     "duration": 1.579445,
     "end_time": "2025-02-17T12:54:05.241655",
     "exception": false,
     "start_time": "2025-02-17T12:54:03.662210",
     "status": "completed"
    },
    "tags": []
   },
   "outputs": [
    {
     "name": "stderr",
     "output_type": "stream",
     "text": [
      "/usr/local/lib/python3.10/dist-packages/sklearn/base.py:439: UserWarning: X does not have valid feature names, but RandomForestRegressor was fitted with feature names\n",
      "  warnings.warn(\n",
      "/usr/local/lib/python3.10/dist-packages/sklearn/base.py:439: UserWarning: X does not have valid feature names, but RandomForestRegressor was fitted with feature names\n",
      "  warnings.warn(\n"
     ]
    }
   ],
   "source": [
    "\n",
    "def generate_predictions_and_save(test_df):\n",
    "    test_df['age'] = (2025 - test_df['born']).clip(lower=17, upper=45)\n",
    "    passing_preds = passing_model.predict(passing_scaler.transform(test_df[get_features_for_rating('passing')]))\n",
    "    shooting_preds = shooting_model.predict(shooting_scaler.transform(test_df[get_features_for_rating('shooting')]))\n",
    "    defense_preds = defense_model.predict(defense_scaler.transform(test_df[get_features_for_rating('defense')]))\n",
    "    keeping_preds = keeping_model.predict(keeping_scaler.transform(test_df[get_features_for_rating('keeping_skills')]))\n",
    "    \n",
    "    # Generate potential predictions using the get_potential_predictions function\n",
    "    potential_preds = get_potential_predictions(test_df, potential_model, p_scaler)\n",
    "    test_df['defense_ratings'] = defense_preds\n",
    "    test_df['passing_ratings'] = passing_preds\n",
    "    test_df['shooting_ratings'] = shooting_preds\n",
    "    test_df['keeping_ratings'] = keeping_preds\n",
    "    test_df['potential_ratings'] = potential_preds\n",
    "\n",
    "    meta_df = get_meta_features_with_potential(test_df)\n",
    "    \n",
    "    # Predict overall ratings using the trained meta-classifier\n",
    "    overall_rating_preds = meta_classifier.predict(meta_df)\n",
    "    \n",
    "    # Save the overall predictions as a new column\n",
    "    test_df['overall_ratings'] = overall_rating_preds\n",
    "\n",
    "    return test_df\n",
    "\n",
    "test_df=pd.read_csv(r'/kaggle/input/pp-haxophone/merged_output.csv')\n",
    "# test_df=test_df[100:]\n",
    "test_df=test_df.dropna()\n",
    "# print(test_df.columns)\n",
    "test_df_with_predictions = generate_predictions_and_save(test_df)\n"
   ]
  },
  {
   "cell_type": "code",
   "execution_count": 8,
   "id": "1f089875",
   "metadata": {
    "execution": {
     "iopub.execute_input": "2025-02-17T12:54:05.249234Z",
     "iopub.status.busy": "2025-02-17T12:54:05.248903Z",
     "iopub.status.idle": "2025-02-17T12:54:05.450237Z",
     "shell.execute_reply": "2025-02-17T12:54:05.449254Z"
    },
    "papermill": {
     "duration": 0.206963,
     "end_time": "2025-02-17T12:54:05.451989",
     "exception": false,
     "start_time": "2025-02-17T12:54:05.245026",
     "status": "completed"
    },
    "tags": []
   },
   "outputs": [],
   "source": [
    "test_df_with_predictions.to_csv('krazi_database.csv', index=False)"
   ]
  },
  {
   "cell_type": "code",
   "execution_count": 9,
   "id": "591fcb8d",
   "metadata": {
    "execution": {
     "iopub.execute_input": "2025-02-17T12:54:05.459779Z",
     "iopub.status.busy": "2025-02-17T12:54:05.459441Z",
     "iopub.status.idle": "2025-02-17T12:54:05.470614Z",
     "shell.execute_reply": "2025-02-17T12:54:05.469553Z"
    },
    "papermill": {
     "duration": 0.016678,
     "end_time": "2025-02-17T12:54:05.472114",
     "exception": false,
     "start_time": "2025-02-17T12:54:05.455436",
     "status": "completed"
    },
    "tags": []
   },
   "outputs": [
    {
     "name": "stdout",
     "output_type": "stream",
     "text": [
      "Minimum values:\n",
      " born                       0.000000\n",
      "ID                      1819.000000\n",
      "Tackles_defense            0.000000\n",
      "Challenges_defense         0.000000\n",
      "Blocks_defense             0.000000\n",
      "Total_passing              0.000000\n",
      "Short_passing              0.000000\n",
      "Medium_passing             0.000000\n",
      "Long_passing               0.000000\n",
      "Expected_passing          -0.250000\n",
      "Standard_shooting          0.000000\n",
      "Expected_shooting          0.000000\n",
      "Playing Time_stats         0.500000\n",
      "Performance_stats          0.000000\n",
      "Expected_stats             0.000000\n",
      "Progression_stats          0.000000\n",
      "Per 90 Minutes_stats       0.000000\n",
      "overallrating             51.000000\n",
      "potential                 61.000000\n",
      "passing                   15.666667\n",
      "shooting                  16.142857\n",
      "defense                   10.600000\n",
      "keeping_skills             2.400000\n",
      "age                       17.000000\n",
      "pos_encoded                0.000000\n",
      "dtype: float64\n",
      "\n",
      "Maximum values:\n",
      " born                     2008.000000\n",
      "ID                       2425.000000\n",
      "Tackles_defense            49.733333\n",
      "Challenges_defense         56.270238\n",
      "Blocks_defense             45.206349\n",
      "Total_passing           11990.195238\n",
      "Short_passing             747.406349\n",
      "Medium_passing            789.123810\n",
      "Long_passing              397.474603\n",
      "Expected_passing            4.928571\n",
      "Standard_shooting          22.327381\n",
      "Expected_shooting           9.347600\n",
      "Playing Time_stats        781.900000\n",
      "Performance_stats          12.351190\n",
      "Expected_stats             18.147619\n",
      "Progression_stats         195.555556\n",
      "Per 90 Minutes_stats        6.588000\n",
      "overallrating              91.000000\n",
      "potential                  94.000000\n",
      "passing                    93.666667\n",
      "shooting                   90.714286\n",
      "defense                    88.800000\n",
      "keeping_skills             86.800000\n",
      "age                        45.000000\n",
      "pos_encoded                 9.000000\n",
      "dtype: float64\n"
     ]
    }
   ],
   "source": [
    "numerical_df = df.select_dtypes(include=['number'])\n",
    "\n",
    "# Find min and max for each numerical column\n",
    "min_values = numerical_df.min()\n",
    "max_values = numerical_df.max()\n",
    "\n",
    "# Display the results\n",
    "print(\"Minimum values:\\n\", min_values)\n",
    "print(\"\\nMaximum values:\\n\", max_values)"
   ]
  }
 ],
 "metadata": {
  "kaggle": {
   "accelerator": "none",
   "dataSources": [
    {
     "datasetId": 6682217,
     "sourceId": 10773161,
     "sourceType": "datasetVersion"
    }
   ],
   "dockerImageVersionId": 30886,
   "isGpuEnabled": false,
   "isInternetEnabled": true,
   "language": "python",
   "sourceType": "notebook"
  },
  "kernelspec": {
   "display_name": "Python 3",
   "language": "python",
   "name": "python3"
  },
  "language_info": {
   "codemirror_mode": {
    "name": "ipython",
    "version": 3
   },
   "file_extension": ".py",
   "mimetype": "text/x-python",
   "name": "python",
   "nbconvert_exporter": "python",
   "pygments_lexer": "ipython3",
   "version": "3.10.12"
  },
  "papermill": {
   "default_parameters": {},
   "duration": 11.430254,
   "end_time": "2025-02-17T12:54:06.095701",
   "environment_variables": {},
   "exception": null,
   "input_path": "__notebook__.ipynb",
   "output_path": "__notebook__.ipynb",
   "parameters": {},
   "start_time": "2025-02-17T12:53:54.665447",
   "version": "2.6.0"
  }
 },
 "nbformat": 4,
 "nbformat_minor": 5
}
